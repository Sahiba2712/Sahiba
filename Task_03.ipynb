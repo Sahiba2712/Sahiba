{
  "nbformat": 4,
  "nbformat_minor": 0,
  "metadata": {
    "colab": {
      "name": "Task-03",
      "provenance": [],
      "collapsed_sections": [],
      "authorship_tag": "ABX9TyP4kp720w9x+oD5S44mIMvj",
      "include_colab_link": true
    },
    "kernelspec": {
      "name": "python3",
      "display_name": "Python 3"
    },
    "language_info": {
      "name": "python"
    }
  },
  "cells": [
    {
      "cell_type": "markdown",
      "metadata": {
        "id": "view-in-github",
        "colab_type": "text"
      },
      "source": [
        "<a href=\"https://colab.research.google.com/github/Sahiba2712/Sahiba/blob/master/Task_03.ipynb\" target=\"_parent\"><img src=\"https://colab.research.google.com/assets/colab-badge.svg\" alt=\"Open In Colab\"/></a>"
      ]
    },
    {
      "cell_type": "markdown",
      "metadata": {
        "id": "PnnOYsCBD0wp"
      },
      "source": [
        "#Task-03 \n",
        "##GO_STP_12366\n",
        "###Goeduhub technologies."
      ]
    },
    {
      "cell_type": "markdown",
      "metadata": {
        "id": "9odGZGhZDs3M"
      },
      "source": [
        " Q.1 Write a Python Program to sort (ascending and descending) a dictionary by value."
      ]
    },
    {
      "cell_type": "code",
      "metadata": {
        "colab": {
          "base_uri": "https://localhost:8080/"
        },
        "id": "tIj_iOw2Dwzw",
        "outputId": "c366fc5b-1a1d-45b3-c3d4-081dd728d0a3"
      },
      "source": [
        "import operator\n",
        "dic={\"Hii\":1, \"git\":2, \"hub\":3, \"book\":4, \"pen\":5}\n",
        "print('dictionary:',dic)\n",
        "sorted_dic=sorted(dic.items(), key=operator.itemgetter(1))\n",
        "print('Dictionary in ascending order:',sorted_dic)\n",
        "sorted_dic=dict(sorted(dic.items(), key=operator.itemgetter(1), reverse=True))\n",
        "print('Dictionary in descending order:',sorted_dic)"
      ],
      "execution_count": 10,
      "outputs": [
        {
          "output_type": "stream",
          "text": [
            "dictionary: {'Hii': 1, 'git': 2, 'hub': 3, 'book': 4, 'pen': 5}\n",
            "Dictionary in ascending order: [('Hii', 1), ('git', 2), ('hub', 3), ('book', 4), ('pen', 5)]\n",
            "Dictionary in descending order: {'pen': 5, 'book': 4, 'hub': 3, 'git': 2, 'Hii': 1}\n"
          ],
          "name": "stdout"
        }
      ]
    },
    {
      "cell_type": "markdown",
      "metadata": {
        "id": "3Y41ic_dGdzH"
      },
      "source": [
        " Q.2 Write a Python Program to add a key to a dictionary. \n",
        "\n",
        "Sample Dictionary : {0: 10, 1: 20}\n",
        "Expected Result : {0: 10, 1: 20, 2: 30}"
      ]
    },
    {
      "cell_type": "code",
      "metadata": {
        "colab": {
          "base_uri": "https://localhost:8080/"
        },
        "id": "dON0hzBDGXUD",
        "outputId": "777b048d-f4d1-4c2d-84f1-7938f0359f71"
      },
      "source": [
        "dic={0:10, 1:20}\n",
        "print('Current Dictionary:',dic)\n",
        "dic.update({2:30})\n",
        "print('Updated Dictionary',dic)"
      ],
      "execution_count": 12,
      "outputs": [
        {
          "output_type": "stream",
          "text": [
            "Current Dictionary: {0: 10, 1: 20}\n",
            "Updated Dictionary {0: 10, 1: 20, 2: 30}\n"
          ],
          "name": "stdout"
        }
      ]
    },
    {
      "cell_type": "markdown",
      "metadata": {
        "id": "KWUyn9Y5HKMA"
      },
      "source": [
        " Q.3 Write a  program asks for City name and Temperature and builds a dictionary using that Later on you can input City name and it will tell you the Temperature of that City."
      ]
    },
    {
      "cell_type": "code",
      "metadata": {
        "colab": {
          "base_uri": "https://localhost:8080/"
        },
        "id": "Y61Jx2gWHO6A",
        "outputId": "78ef8446-c3cd-41fa-9a80-f88ac6610888"
      },
      "source": [
        " \n",
        "dic = dict()\n",
        "n = int(input('Enter The Number Of Cities : '))\n",
        "for i in range(n):\n",
        "  city = input('Enter A Name Of The City : ')\n",
        "  temp = int(input('Enter The Temperature In Celcious Of The City : '))\n",
        "  dic[city] = temp\n",
        "print('Created Dictionary Is : ',dic)\n",
        "city_name = input('Enter Name Of The City To Check Temperature Of It : ')\n",
        "print('Temperature Of The City Is : ',dic[city_name])"
      ],
      "execution_count": 16,
      "outputs": [
        {
          "output_type": "stream",
          "text": [
            "Enter The Number Of Cities : 03\n",
            "Enter A Name Of The City : Dehradun\n",
            "Enter The Temperature In Celcious Of The City : 29\n",
            "Enter A Name Of The City : Chennai\n",
            "Enter The Temperature In Celcious Of The City : 32\n",
            "Enter A Name Of The City : pune\n",
            "Enter The Temperature In Celcious Of The City : 29\n",
            "Created Dictionary Is :  {'Dehradun': 29, 'Chennai': 32, 'pune': 29}\n",
            "Enter Name Of The City To Check Temperature Of It : Dehradun\n",
            "Temperature Of The City Is :  29\n"
          ],
          "name": "stdout"
        }
      ]
    },
    {
      "cell_type": "markdown",
      "metadata": {
        "id": "UeiAIlSGKo4t"
      },
      "source": [
        " Q. 4 Write a Python program to convert list to list of dictionaries.\n",
        " \n",
        "Sample lists: [\"Black\", \"Red\", \"Maroon\", \"Yellow\"], [\"#000000\", \"#FF0000\", \"#800000\", \"#FFFF00\"]\n",
        " \n",
        "Expected Output: [{'color_name': 'Black', 'color_code': '#000000'}, {'color_name': 'Red', 'color_code': '#FF0000'}, {'color_name': 'Maroon', 'color_code': '#800000'}, {'color_name': 'Yellow', 'color_code': '#FFFF00'}]"
      ]
    },
    {
      "cell_type": "code",
      "metadata": {
        "colab": {
          "base_uri": "https://localhost:8080/"
        },
        "id": "6mg-NsYIMM3Z",
        "outputId": "4748228a-823e-485d-91a7-c616d7740eeb"
      },
      "source": [
        "list_1= [\"Black\", \"Red\", \"Maroon\", \"Yellow\"], \n",
        "list_2=[\"#000000\", \"#FF0000\", \"#800000\", \"#FFFF00\"]\n",
        "print([{'color_name': d, 'color_code': c} for d, c in zip(list_1, list_2)])"
      ],
      "execution_count": 28,
      "outputs": [
        {
          "output_type": "stream",
          "text": [
            "[{'color_name': ['Black', 'Red', 'Maroon', 'Yellow'], 'color_code': '#000000'}]\n"
          ],
          "name": "stdout"
        }
      ]
    },
    {
      "cell_type": "markdown",
      "metadata": {
        "id": "4q00OjYuMsWb"
      },
      "source": [
        " Q. 5 We have following information on Employees and their Salary (Salary is in lakhs),\n",
        " \n",
        "Using above create a dictionary of Employees and their Salary\n",
        " \n",
        "Write a program that asks user for three type of inputs,\n",
        "print: if user enter print then it should print all Employees with their Salary in this format,\n",
        "John ==>14\n",
        " \n",
        "Smith ==>13\n",
        " \n",
        "Alice ==>32 \n",
        " \n",
        "Daneil ==>21\n",
        " \n",
        "add: if user input adds then it should further ask for an Employee name to add. If Employee already exists in our dataset then it should print that it exists and do nothing. If it doesn't then it asks for Salary and add that new Employee/Salary in our dictionary and print it.\n",
        "remove: when user inputs remove it should ask for an Employee to remove. If an Employee exists in our dictionary then remove it and print a new dictionary using format shown above in (a). Else print that Employee doesn't exist!\n",
        " \n",
        "query: on this again ask the user for which Employee he or she wants to query. When a user inputs that Employee it will print the Salary of that Employee."
      ]
    },
    {
      "cell_type": "code",
      "metadata": {
        "colab": {
          "base_uri": "https://localhost:8080/"
        },
        "id": "IRjRStUhNdJH",
        "outputId": "06bff0dc-51d1-4ec4-93ab-021900578083"
      },
      "source": [
        " \n",
        "data = {'John':1400000, 'Smith':1300000, 'Alice':3200000, 'Daniel':3200000}\n",
        "print('Data Of Employee And Their Salaries')\n",
        "user_input = input('What Do You Want With This Data (Print\\Add\\Remove\\Query) : '.title())\n",
        "if user_input=='Print':\n",
        "  for i in data.items():\n",
        "    print(i[0],'==>',i[1])\n",
        "elif user_input == 'Add':\n",
        "  new_name = input('Enter A Name Of New Employee : ')\n",
        "  if new_name in data.keys():\n",
        "    print('This Name Is Already In Data')\n",
        "  else:\n",
        "    new_sal = int(input('Enter The Salary Of Employee : '))\n",
        "    data[new_name]=new_sal\n",
        "    for j in data.items():\n",
        "      print(j[0],'==>',j[1])\n",
        "elif user_input == 'Remove':\n",
        "  rem = input('Enter A Employee Name To Remove : ')\n",
        "  if rem in data:\n",
        "    del data[rem]\n",
        "    for k in data.items():\n",
        "      print(k[0],'==>',k[1])\n",
        "  else:\n",
        "    print('Employee Does Not Exist')\n",
        "elif user_input == 'Query':\n",
        "  quer = input('Enter The Name Of The Employee Wants To Query')\n",
        "  if quer in data:\n",
        "    print(data[quer])\n",
        "  else:\n",
        "    print('The Name Does Not Exist')\n",
        "else:\n",
        "  print('Enter Only Valid Input')"
      ],
      "execution_count": 30,
      "outputs": [
        {
          "output_type": "stream",
          "text": [
            "Data Of Employee And Their Salaries\n",
            "What Do You Want With This Data (Print\\Add\\Remove\\Query) : Print\n",
            "John ==> 1400000\n",
            "Smith ==> 1300000\n",
            "Alice ==> 3200000\n",
            "Daniel ==> 3200000\n"
          ],
          "name": "stdout"
        }
      ]
    },
    {
      "cell_type": "markdown",
      "metadata": {
        "id": "Wjvya7SsNxyT"
      },
      "source": [
        "#Question on sets\n",
        " \n",
        "What is the difference between a set and a frozenset? Create any set and try to use frozenset(setname)."
      ]
    },
    {
      "cell_type": "markdown",
      "metadata": {
        "id": "fHNP_2CyOCxd"
      },
      "source": [
        " Mutability is the most important difference between a set object and afrozenset object. Mutability refers to the ability of Python object's value subject to change (i.e., to mute). For example, integers, strings, and tuples are all immutable, while lists, dictionaries, andsets are mutable."
      ]
    },
    {
      "cell_type": "code",
      "metadata": {
        "colab": {
          "base_uri": "https://localhost:8080/"
        },
        "id": "cMs27UaYOCJV",
        "outputId": "86938c37-5450-4d70-e34e-aea8b93717b9"
      },
      "source": [
        " \n",
        "Alphabets=('a', 'b', 'c', 'd', 'e')\n",
        "fSet = frozenset(Alphabets)\n",
        "print('The frozen set is:', fSet)\n",
        "print('The empty frozen set is:', frozenset())\n",
        "print(type(Alphabets))\n",
        "print(type(fSet))"
      ],
      "execution_count": 37,
      "outputs": [
        {
          "output_type": "stream",
          "text": [
            "The frozen set is: frozenset({'c', 'b', 'a', 'd', 'e'})\n",
            "The empty frozen set is: frozenset()\n",
            "<class 'tuple'>\n",
            "<class 'frozenset'>\n"
          ],
          "name": "stdout"
        }
      ]
    },
    {
      "cell_type": "markdown",
      "metadata": {
        "id": "EWcZjY-SPVll"
      },
      "source": [
        " Q.2 Find the elements in a given set that are not in another set\n",
        "    set1 = {10,20,30,40,50}\n",
        "    set2 = {40,50,60,70,80}\n",
        " Difference between set1 and set2 is {10,20,30}"
      ]
    },
    {
      "cell_type": "code",
      "metadata": {
        "colab": {
          "base_uri": "https://localhost:8080/"
        },
        "id": "QTJ2DYGwPboJ",
        "outputId": "5a751580-6d92-4023-c5ab-a9d2e3784a3e"
      },
      "source": [
        " \n",
        "set1 = {10,20,30,40,50}\n",
        "set2 = {40,50,60,70,80}\n",
        "print(set1.difference(set2))"
      ],
      "execution_count": 38,
      "outputs": [
        {
          "output_type": "stream",
          "text": [
            "{10, 20, 30}\n"
          ],
          "name": "stdout"
        }
      ]
    }
  ]
}